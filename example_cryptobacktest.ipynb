{
 "cells": [
  {
   "cell_type": "markdown",
   "metadata": {},
   "source": [
    "**This workbook will aim at implementing an example use this cryptobacktest library**"
   ]
  },
  {
   "cell_type": "markdown",
   "metadata": {},
   "source": [
    "The strategy we aim to implement is an options-based approach designed to capture potential increases in the volatility of the underlying asset. Specifically, we will utilize a strategy known as a straddle, which involves simultaneously purchasing a call and a put option with the same strike price and expiration date. This setup allows us to profit from significant price movements in either direction. To identify potential opportunities, we will focus on periods of low volatility, anticipating that an increase in volatility may follow."
   ]
  },
  {
   "cell_type": "code",
   "execution_count": null,
   "metadata": {},
   "outputs": [],
   "source": [
    "from cryptobacktest.volatility import Volatility\n",
    "from cryptobacktest.option import Option\n",
    "from cryptobacktest.volatilitysignal import StrictVolatilitySignal\n",
    "\n",
    "from pybacktestchain.data_module import DataModule\n",
    "from pybacktestchain.data_module import get_stock_data\n",
    "import matplotlib.pyplot as plt\n",
    "\n",
    "#from pybacktestchain.broker import Broker\n",
    "#from pybacktestchain.blockchain import Blockchain\n",
    "import pandas as pd\n",
    "from cryptobacktest.straddlebacktest import StraddleBacktest\n",
    "from cryptobacktest.straddlebroker import StraddleBroker\n",
    "from cryptobacktest.straddleinfo import StraddleInformation"
   ]
  },
  {
   "cell_type": "code",
   "execution_count": null,
   "metadata": {},
   "outputs": [],
   "source": [
    "# Define the date range\n",
    "start_date = \"2016-01-01\"\n",
    "end_date = \"2024-12-31\"\n",
    "\n",
    "# Import historical data thanks to a pybacktestchain function\n",
    "btc_data = get_stock_data('BTC-USD', start_date, end_date)\n",
    "btc_data"
   ]
  },
  {
   "cell_type": "markdown",
   "metadata": {},
   "source": [
    "We will be working on the closing price so we will only keep them."
   ]
  },
  {
   "cell_type": "code",
   "execution_count": null,
   "metadata": {},
   "outputs": [],
   "source": [
    "btc_close = btc_data[['Date', 'Close']].copy()\n",
    "\n",
    "# Ensure the date column is a datetime format\n",
    "btc_close['Date'] = pd.to_datetime(btc_close['Date'])\n",
    "\n",
    "btc_close"
   ]
  },
  {
   "cell_type": "code",
   "execution_count": null,
   "metadata": {},
   "outputs": [],
   "source": [
    "# Plot the Price\n",
    "plt.figure(figsize=(12, 6))\n",
    "plt.plot(btc_close['Date'], btc_close['Close'], label='Daily closing Price of BTCUSD', color='blue')\n",
    "plt.title('Daily closing Price of BTCUSD', fontsize=16)\n",
    "plt.xlabel('Date', fontsize=12)\n",
    "plt.ylabel('USD', fontsize=12)\n",
    "plt.grid(True)\n",
    "plt.legend()\n",
    "plt.tight_layout()\n",
    "plt.show()"
   ]
  },
  {
   "cell_type": "markdown",
   "metadata": {},
   "source": [
    "Initialize the Volatility class to compute a rolling monthly volatility"
   ]
  },
  {
   "cell_type": "code",
   "execution_count": null,
   "metadata": {},
   "outputs": [],
   "source": [
    "volatility_calculator = Volatility(window=360,factor=30)\n",
    "\n",
    "# Compute monthly rolling volatility\n",
    "btc_close = volatility_calculator.compute_volatility(btc_close, price_column='Close', date_column='Date')"
   ]
  },
  {
   "cell_type": "code",
   "execution_count": null,
   "metadata": {},
   "outputs": [],
   "source": [
    "btc_close"
   ]
  },
  {
   "cell_type": "code",
   "execution_count": null,
   "metadata": {},
   "outputs": [],
   "source": [
    "# Plot the rolling monthly volatility\n",
    "plt.figure(figsize=(12, 6))\n",
    "plt.plot(btc_close['Date'], btc_close['Volatility'], label='Volatility', color='blue')\n",
    "plt.title('Rolling Monthly Volatility of BTC', fontsize=16)\n",
    "plt.xlabel('Date', fontsize=12)\n",
    "plt.ylabel('Monthly Volatility', fontsize=12)\n",
    "plt.grid(True)\n",
    "plt.legend()\n",
    "plt.tight_layout()\n",
    "plt.show()"
   ]
  },
  {
   "cell_type": "markdown",
   "metadata": {},
   "source": [
    "Compute the 30-day maturity straddle price for each dates\n"
   ]
  },
  {
   "cell_type": "code",
   "execution_count": null,
   "metadata": {},
   "outputs": [],
   "source": [
    "btc_close['StraddlePrice'] = btc_close.apply(\n",
    "    lambda row: Option.compute_straddle(\n",
    "        underlying_price=row['Close'],\n",
    "        implied_volatility=row['Volatility'],\n",
    "        time_to_maturity=30,  # 30-day maturity\n",
    "        interest_rate=0.0,    # No interest rate\n",
    "        dividend_yield=0.0    # No dividend yield\n",
    "    ) if not pd.isna(row['Volatility']) else None,\n",
    "    axis=1\n",
    ")\n",
    "\n",
    "btc_close"
   ]
  },
  {
   "cell_type": "markdown",
   "metadata": {},
   "source": [
    "We now aim at computing potential buy straddle signals. To do this we will initialize our StrictVolatilitySignal class using the following parameters: a short-term volatility period of 1 month and a long-term volatility period of 3 months. Also we will only be interested in it if it's at least 5% lower for 3 consecutive days. Finally, we will take a maximum of 1 trade each 3 months to avoid taking many positions in the case the volatility decreases a lot very rapidly."
   ]
  },
  {
   "cell_type": "code",
   "execution_count": null,
   "metadata": {},
   "outputs": [],
   "source": [
    "strict_signal_with_frequency = StrictVolatilitySignal(\n",
    "    vol_column=\"Volatility\", \n",
    "    date_column=\"Date\", \n",
    "    short_window=30, \n",
    "    long_window=90, \n",
    "    threshold_factor=0.95, \n",
    "    min_days=3, \n",
    "    trading_frequency=90)"
   ]
  },
  {
   "cell_type": "code",
   "execution_count": null,
   "metadata": {},
   "outputs": [],
   "source": [
    "# Generating the sinals on our df \n",
    "btc_close_with_frequency_signals = strict_signal_with_frequency.generate_signals(btc_close)"
   ]
  },
  {
   "cell_type": "code",
   "execution_count": null,
   "metadata": {},
   "outputs": [],
   "source": [
    "# Plot the results\n",
    "plt.figure(figsize=(12, 6))\n",
    "plt.plot(btc_close_with_frequency_signals['Date'], btc_close_with_frequency_signals['Volatility'], label='Volatility', color='blue')\n",
    "plt.scatter(\n",
    "    btc_close_with_frequency_signals['Date'][btc_close_with_frequency_signals['Signal'] == 1],\n",
    "    btc_close_with_frequency_signals['Volatility'][btc_close_with_frequency_signals['Signal'] == 1],\n",
    "    color='red', label='Low Volatility Signal'\n",
    ")\n",
    "plt.title('Volatility and trading signals')\n",
    "plt.xlabel('Date')\n",
    "plt.ylabel('Volatility')\n",
    "plt.legend()\n",
    "plt.grid()\n",
    "plt.show()\n"
   ]
  },
  {
   "cell_type": "markdown",
   "metadata": {},
   "source": [
    "Now by looking at volatility, spot and where our signals are, it's very hard to know if we would make money. \n",
    "\n",
    "Indeed straddles are expensive, so to know if this straddle strategy calibrated with our parameters would make money, we need to run a backtest ! "
   ]
  },
  {
   "cell_type": "markdown",
   "metadata": {},
   "source": [
    "Hence it's from here that will try to make the link between what I developed and the pybacktestchain created in class. As pybacktestchain was initially made for stocks and not options we will have to modify it a bit to fit our constraints. \n",
    "\n",
    "Indeed, with our option strategy we don't aim to rebalance our portfolio as we will keep positions until maturity and we will have no \"risk model\" as once bought we will hold them."
   ]
  },
  {
   "cell_type": "code",
   "execution_count": null,
   "metadata": {},
   "outputs": [],
   "source": [
    "btc_close_with_frequency_signals"
   ]
  },
  {
   "cell_type": "markdown",
   "metadata": {},
   "source": [
    "Now our dataset and strategy are ready to be backtested. We will initialiaze all the necessary classes and variables."
   ]
  },
  {
   "cell_type": "code",
   "execution_count": null,
   "metadata": {},
   "outputs": [],
   "source": [
    "# Initialize the data module\n",
    "data_module = DataModule(data=btc_close_with_frequency_signals)\n"
   ]
  },
  {
   "cell_type": "code",
   "execution_count": null,
   "metadata": {},
   "outputs": [],
   "source": [
    "# Initialize the information class\n",
    "info = StraddleInformation(\n",
    "    data_module=data_module,\n",
    "    s=timedelta(days=360),\n",
    "    time_column=\"Date\",\n",
    "    adj_close_column=\"Close\"\n",
    ")"
   ]
  },
  {
   "cell_type": "code",
   "execution_count": null,
   "metadata": {},
   "outputs": [],
   "source": [
    "# initialize the backtest\n",
    "backtest = StraddleBacktest(\n",
    "    initial_date=btc_close_with_frequency_signals[\"Date\"].min(),\n",
    "    final_date=btc_close_with_frequency_signals[\"Date\"].max(),\n",
    "    data_module=data_module,\n",
    "    initial_cash=10000,  # Starting cash\n",
    "    allocation_percent=0.1,  # Allocate 10% of portfolio to buying straddles at each date x, sort of risk parameter\n",
    ")"
   ]
  },
  {
   "cell_type": "markdown",
   "metadata": {},
   "source": [
    "Everything is now ready to run the backtest on the defined strategy."
   ]
  },
  {
   "cell_type": "code",
   "execution_count": null,
   "metadata": {},
   "outputs": [],
   "source": [
    "backtest.run_backtest(information_class=info)"
   ]
  },
  {
   "cell_type": "markdown",
   "metadata": {},
   "source": [
    "We will grab the results: portfolio value & P&L in a dataframe in order to do some graphs based on the strategy"
   ]
  },
  {
   "cell_type": "code",
   "execution_count": null,
   "metadata": {},
   "outputs": [],
   "source": [
    "portfolio_history, realized_pnl = backtest.get_results()\n",
    "\n",
    "# Get all potential trade dates\n",
    "trade_dates = btc_close_with_frequency_signals.loc[btc_close_with_frequency_signals[\"Signal\"] == 1, \"Date\"]\n",
    "\n",
    "#  only dates where trades occurred are considered (if cash < straddleprice, no trade)\n",
    "successful_trade_dates = trade_dates.iloc[:len(realized_pnl)].reset_index(drop=True)\n",
    "\n",
    "# Show pnl & cumulative pnl where trades were made\n",
    "\n",
    "realized_pnl_df = pd.DataFrame({\n",
    "    \"Date\": successful_trade_dates,\n",
    "    \"RealizedPnL\": realized_pnl,\n",
    "})\n",
    "realized_pnl_df[\"CumulativePnL\"] = realized_pnl_df[\"RealizedPnL\"].cumsum()\n",
    "\n",
    "realized_pnl_df\n",
    "\n"
   ]
  },
  {
   "cell_type": "code",
   "execution_count": null,
   "metadata": {},
   "outputs": [],
   "source": [
    "# Create graphs and parameters\n",
    "fig, ax1 = plt.subplots(figsize=(12, 6))\n",
    "\n",
    "ax1.plot(\n",
    "    btc_close_with_frequency_signals[\"Date\"],\n",
    "    btc_close_with_frequency_signals[\"Close\"],\n",
    "    label=\"Price\",\n",
    "    color=\"blue\",\n",
    "    linewidth=1.5,\n",
    ")\n",
    "ax1.scatter(\n",
    "    btc_close_with_frequency_signals.loc[btc_close_with_frequency_signals[\"Signal\"] == 1, \"Date\"],\n",
    "    btc_close_with_frequency_signals.loc[btc_close_with_frequency_signals[\"Signal\"] == 1, \"Close\"],\n",
    "    color=\"red\",\n",
    "    label=\"Trade Signals\",\n",
    "    zorder=5,\n",
    ")\n",
    "ax1.set_xlabel(\"Date\", fontsize=12)\n",
    "ax1.set_ylabel(\"Price\", fontsize=12, color=\"blue\")\n",
    "ax1.tick_params(axis=\"y\", labelcolor=\"blue\")\n",
    "\n",
    "ax2 = ax1.twinx()\n",
    "ax2.scatter(\n",
    "    realized_pnl_df[\"Date\"],\n",
    "    realized_pnl_df[\"RealizedPnL\"],\n",
    "    color=\"green\",\n",
    "    label=\"Realized PnL\",\n",
    "    zorder=6,\n",
    "    s=50,\n",
    ")\n",
    "ax2.set_ylabel(\"Realized P&L\", fontsize=12, color=\"green\")\n",
    "ax2.tick_params(axis=\"y\", labelcolor=\"green\")\n",
    "fig.suptitle(\"Price, Trading Signals, and Realized P&L\", fontsize=16)\n",
    "ax1.legend(loc=\"upper left\")\n",
    "ax2.legend(loc=\"upper right\")\n",
    "\n",
    "ax1.grid()\n",
    "\n",
    "plt.show()\n"
   ]
  },
  {
   "cell_type": "markdown",
   "metadata": {},
   "source": [
    "Cumulative realized P&L:\n"
   ]
  },
  {
   "cell_type": "code",
   "execution_count": null,
   "metadata": {},
   "outputs": [],
   "source": [
    "plt.figure(figsize=(12, 6))\n",
    "plt.plot(realized_pnl_df[\"Date\"], realized_pnl_df[\"CumulativePnL\"], label=\"Cumulative Realized P&L\", color=\"green\", linewidth=2)\n",
    "plt.title(\"Cumulative Realized P&L from our  strategy\", fontsize=16)\n",
    "plt.xlabel(\"Date\", fontsize=12)\n",
    "plt.ylabel(\"Cumulative P&L\", fontsize=12)\n",
    "plt.legend()\n",
    "plt.grid()\n",
    "plt.show()"
   ]
  },
  {
   "cell_type": "markdown",
   "metadata": {},
   "source": [
    "**Analysis of the P&L of this strategy:**"
   ]
  },
  {
   "cell_type": "markdown",
   "metadata": {},
   "source": [
    "The results show that this strategy applied to BTC appears highly profitable. \n",
    "\n",
    "However, we need to be careful: \n",
    "\n",
    "Here, we used historical volatility as a proxy for implied volatility due to data limitations, which may not reflect real market conditions. \n",
    "\n",
    "Additionally, past performance of cryptocurrencies, driven by unique market conditions and rapid growth, may not be indicative of future performance."
   ]
  },
  {
   "cell_type": "markdown",
   "metadata": {},
   "source": []
  }
 ],
 "metadata": {
  "kernelspec": {
   "display_name": "Python 3",
   "language": "python",
   "name": "python3"
  },
  "language_info": {
   "codemirror_mode": {
    "name": "ipython",
    "version": 3
   },
   "file_extension": ".py",
   "mimetype": "text/x-python",
   "name": "python",
   "nbconvert_exporter": "python",
   "pygments_lexer": "ipython3",
   "version": "3.12.8"
  }
 },
 "nbformat": 4,
 "nbformat_minor": 2
}
